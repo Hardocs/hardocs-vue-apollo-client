{
 "cells": [
  {
   "cell_type": "code",
   "execution_count": 1,
   "metadata": {},
   "outputs": [
    {
     "name": "stdout",
     "output_type": "stream",
     "text": [
      "\n",
      "  can fly:  true\n",
      "  can land: true\n",
      "  battery capacity: 5500mAh\n",
      "  battery status: 50%\n",
      "  battery drained: 0% remaining\n",
      "\n",
      "\n",
      "  constructor linked: true\n",
      "\n"
     ]
    }
   ],
   "source": [
    "const withConstructor = constructor => o => ({\n",
    "  // create the delegate [[Prototype]]\n",
    "  __proto__: {\n",
    "    // add the constructor prop to the new [[Prototype]]\n",
    "    constructor\n",
    "  },\n",
    "  // mix all o's props into the new object\n",
    "  ...o\n",
    "});\n",
    "\n",
    "const pipe = (...fns) => x => fns.reduce((y, f) => f(y), x);\n",
    "// or `import pipe from 'lodash/fp/flow';`\n",
    "// Set up some functional mixins\n",
    "const withFlying = o => {\n",
    "  let isFlying = false;\n",
    "  return {\n",
    "    ...o,\n",
    "    fly () {\n",
    "      isFlying = true;\n",
    "      return this;\n",
    "    },\n",
    "    land () {\n",
    "      isFlying = false;\n",
    "      return this;\n",
    "    },\n",
    "    isFlying: () => isFlying\n",
    "  }\n",
    "};\n",
    "const withBattery = ({ capacity }) => o => {\n",
    "  let percentCharged = 100;\n",
    "  return {\n",
    "    ...o,\n",
    "    draw (percent) {\n",
    "      const remaining = percentCharged - percent;\n",
    "      percentCharged = remaining > 0 ? remaining : 0;\n",
    "      return this;\n",
    "    },\n",
    "    getCharge: () => percentCharged,\n",
    "    getCapacity: () => capacity\n",
    "  };\n",
    "};\n",
    "\n",
    "const createDrone = ({ capacity = '3000mAh' }) => pipe(\n",
    "  withFlying,\n",
    "  withBattery({ capacity }),\n",
    "  withConstructor(createDrone)\n",
    ")({});\n",
    "\n",
    "const myDrone = createDrone({ capacity: '5500mAh' });\n",
    "console.log(`\n",
    "  can fly:  ${ myDrone.fly().isFlying() === true }\n",
    "  can land: ${ myDrone.land().isFlying() === false }\n",
    "  battery capacity: ${ myDrone.getCapacity() }\n",
    "  battery status: ${ myDrone.draw(50).getCharge() }%\n",
    "  battery drained: ${ myDrone.draw(75).getCharge() }% remaining\n",
    "`);\n",
    "console.log(`\n",
    "  constructor linked: ${ myDrone.constructor === createDrone }\n",
    "`);"
   ]
  },
  {
   "cell_type": "code",
   "execution_count": null,
   "metadata": {},
   "outputs": [],
   "source": []
  }
 ],
 "metadata": {
  "kernelspec": {
   "display_name": "TypeScript",
   "language": "typescript",
   "name": "tslab"
  },
  "language_info": {
   "codemirror_mode": {
    "mode": "typescript",
    "name": "javascript",
    "typescript": true
   },
   "file_extension": ".ts",
   "mimetype": "text/typescript",
   "name": "typescript",
   "version": "3.7.2"
  }
 },
 "nbformat": 4,
 "nbformat_minor": 4
}
