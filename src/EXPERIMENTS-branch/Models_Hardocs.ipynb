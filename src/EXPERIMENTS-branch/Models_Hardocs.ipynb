{
 "cells": [
  {
   "cell_type": "markdown",
   "metadata": {},
   "source": [
    "# Hardoc classes\n",
    "Classes we can use to generate easily documents. Every document has at least a type and a path"
   ]
  },
  {
   "cell_type": "code",
   "execution_count": 3,
   "metadata": {},
   "outputs": [],
   "source": [
    "class Hardoc {\n",
    "    // type can onlt be \n",
    "    constructor(type, path){\n",
    "        if (type !== \"Doc\")\n",
    "        this.type = type;\n",
    "        this.path = path; // includes the fileName\n",
    "    }\n",
    "    // set Path\n",
    "    // Change Path\n",
    "}"
   ]
  },
  {
   "cell_type": "code",
   "execution_count": 21,
   "metadata": {},
   "outputs": [],
   "source": [
    "class Doc extends Hardoc {\n",
    "    constructor(type,path,title){\n",
    "        super(type, path)\n",
    "        this.title = title;\n",
    "    }\n",
    "}"
   ]
  },
  {
   "cell_type": "code",
   "execution_count": 22,
   "metadata": {},
   "outputs": [
    {
     "name": "stdout",
     "output_type": "stream",
     "text": [
      "Doc { type: \u001b[32m'Doc'\u001b[39m, path: \u001b[32m'Hello'\u001b[39m, title: \u001b[90mundefined\u001b[39m }\n"
     ]
    }
   ],
   "source": [
    "let doc1 = new Doc(\"Doc\",\"Hello\")\n",
    "console.log(doc1)"
   ]
  },
  {
   "cell_type": "code",
   "execution_count": 3,
   "metadata": {},
   "outputs": [],
   "source": [
    "class Record extends Hardoc{\n",
    "    constructor(type, schema){\n",
    "        super(type)\n",
    "        // Schema id???\n",
    "        this.schemaLabel = schema.label;\n",
    "        this.schemaUri = schema.uri;\n",
    "        this.content = null\n",
    "        \n",
    "    }\n",
    "    // set content\n",
    "    \n",
    "}"
   ]
  },
  {
   "cell_type": "code",
   "execution_count": 25,
   "metadata": {},
   "outputs": [],
   "source": [
    "class Schema extends Hardoc{\n",
    "  constructor(type, label, url, path){\n",
    "    super(type)\n",
    "    this.label = label;\n",
    "    this.uri = url;\n",
    "    this.fileName = `${label}.json` \n",
    "  }\n",
    "}"
   ]
  },
  {
   "cell_type": "code",
   "execution_count": 26,
   "metadata": {},
   "outputs": [
    {
     "name": "stdout",
     "output_type": "stream",
     "text": [
      "Schema {\n",
      "  type: \u001b[32m'Record'\u001b[39m,\n",
      "  path: \u001b[90mundefined\u001b[39m,\n",
      "  label: \u001b[32m'myPath'\u001b[39m,\n",
      "  uri: \u001b[32m'urlasdasda'\u001b[39m,\n",
      "  fileName: \u001b[32m'myPath.json'\u001b[39m\n",
      "}\n"
     ]
    }
   ],
   "source": [
    "let schema2 = new Schema(\"Record\",\"myPath\",\"urlasdasda\", \"grandma\")\n",
    "console.log(schema2)"
   ]
  }
 ],
 "metadata": {
  "kernelspec": {
   "display_name": "JavaScript",
   "language": "javascript",
   "name": "jslab"
  },
  "language_info": {
   "file_extension": ".js",
   "mimetype": "text/javascript",
   "name": "javascript",
   "version": ""
  }
 },
 "nbformat": 4,
 "nbformat_minor": 4
}
